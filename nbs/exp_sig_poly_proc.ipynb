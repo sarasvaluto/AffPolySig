{
 "cells": [
  {
   "cell_type": "markdown",
   "metadata": {},
   "source": [
    "# Expected signature of polynomial processes in $(d+1)$-dimensions\n",
    "\n",
    "> We implement here the formula providing the expecation of the signature of a continuous polynomial process $X$ in $d+1$ dimensions."
   ]
  },
  {
   "cell_type": "code",
   "execution_count": null,
   "metadata": {},
   "outputs": [],
   "source": [
    "#| default_exp exp_sig"
   ]
  },
  {
   "cell_type": "code",
   "execution_count": null,
   "metadata": {},
   "outputs": [],
   "source": [
    "#| hide\n",
    "from nbdev.showdoc import *"
   ]
  },
  {
   "cell_type": "code",
   "execution_count": null,
   "metadata": {},
   "outputs": [],
   "source": [
    "#| export\n",
    "import numpy as np\n",
    "import math \n",
    "import scipy.special\n",
    "from scipy.linalg import expm, sinm, cosm\n",
    "import cmath\n",
    "import matplotlib.pyplot as plt\n",
    "from scipy.integrate import odeint\n",
    "from tqdm.auto import tqdm\n",
    "import time\n",
    "import fractions\n",
    "from itertools import permutations"
   ]
  },
  {
   "cell_type": "markdown",
   "metadata": {},
   "source": [
    "## Auxiliary functions\n",
    "\n",
    "First, we need to define some maps mapping a multiindex to its lexicographic order and back."
   ]
  },
  {
   "cell_type": "code",
   "execution_count": null,
   "metadata": {},
   "outputs": [],
   "source": [
    "#| export\n",
    "def fromwordtonum(I,d):\n",
    "    '''\n",
    "    Providing the number corresponding to the multiindex I in a vocabulary of words of letters {0,...,d}.\n",
    "    '''\n",
    "    if len(I)==0:\n",
    "        return 0\n",
    "    powers=np.ones(len(I))\n",
    "    for i in range(len(I)):\n",
    "        powers[i]=(d+1)**i\n",
    "    powers=np.flip(powers)\n",
    "    all0but1=np.ones(len(I))\n",
    "    all0but1[-1]=0\n",
    "    return int(np.dot(I+all0but1,powers))+1"
   ]
  },
  {
   "cell_type": "code",
   "execution_count": null,
   "metadata": {},
   "outputs": [],
   "source": [
    "#| export\n",
    "def fromnumtoword(n,d):\n",
    "    '''\n",
    "    Providing the multiindex corresponding to the number n in a vocabulary of words of letters {0,...,d}.\n",
    "    '''\n",
    "    if n==0:\n",
    "        return []\n",
    "    else:\n",
    "        return fromnumtoword((n-1)//(d+1),d)+[(n-1)%(d+1),]"
   ]
  },
  {
   "cell_type": "code",
   "execution_count": null,
   "metadata": {},
   "outputs": [],
   "source": [
    "#| export\n",
    "def fromlentonum(len_max,d):\n",
    "    '''\n",
    "    Providing the maximal component of a vector with all multiindices of lenght<=len_max. \n",
    "    '''\n",
    "    maxword=d*np.ones(len_max)\n",
    "    return fromwordtonum(maxword,d)"
   ]
  },
  {
   "cell_type": "markdown",
   "metadata": {},
   "source": [
    "We introduce then the shuffle product and its vectorial representation."
   ]
  },
  {
   "cell_type": "code",
   "execution_count": null,
   "metadata": {},
   "outputs": [],
   "source": [
    "#| export\n",
    "def shuffle(a,b):\n",
    "    '''\n",
    "    Input:\n",
    "        a,b: multiindices\n",
    "    \n",
    "    Output:\n",
    "        list of multiindices in a shuffle b\n",
    "    '''\n",
    "    sh = []\n",
    "    if len(a)==0:\n",
    "        return [b,]\n",
    "    if len(b)==0:\n",
    "        return [a,]\n",
    "    else:\n",
    "        [sh.append(p+[a[-1],]) for p in shuffle(a[:-1],b)]\n",
    "        [sh.append(p+[b[-1],]) for p in shuffle(a,b[:-1])]\n",
    "    return sh"
   ]
  },
  {
   "cell_type": "code",
   "execution_count": null,
   "metadata": {},
   "outputs": [],
   "source": [
    "#| export\n",
    "def shuffletensor(len_1,len_2,d):\n",
    "    '''\n",
    "    Input:\n",
    "        len_1,len_2: maximal lenght of the input's multiindices\n",
    "        {0,...,d} denotes the set of indices\n",
    "    \n",
    "    Output:\n",
    "        tensor\n",
    "    '''\n",
    "    dim1=fromlentonum(max(len_1,len_2),d)+1\n",
    "    dim2=fromlentonum(min(len_1,len_2),d)+1\n",
    "    dim_out=fromlentonum(len_1+len_2,d)+1\n",
    "    tensor=np.zeros((dim1,dim2,dim_out))\n",
    "    tensor[0,0,0]=1\n",
    "    for i in range(1,dim1):\n",
    "        tensor[i,0,i]=1\n",
    "        if i<dim2:\n",
    "            tensor[0,i,i]=1\n",
    "        for j in range (1,min(i+1,dim2)):\n",
    "            wordi=fromnumtoword(i,d)\n",
    "            wordj=fromnumtoword(j,d)\n",
    "            shufflelist=shuffle(wordi,wordj)\n",
    "            for word in shufflelist:\n",
    "                tensor[i,j,fromwordtonum(word,d)]+=1\n",
    "                if i !=j and i<dim2:\n",
    "                    tensor[j,i,fromwordtonum(word,d)]+=1\n",
    "    if len_2>len_1:\n",
    "        tensor=np.swapaxes(tensor, 0, 1)\n",
    "    return tensor"
   ]
  },
  {
   "cell_type": "markdown",
   "metadata": {},
   "source": [
    "## From polynomials to linear combinations of the signature\n",
    "Recall that for every symmetric matrix $c_2$\n",
    "\\begin{align*}\n",
    "p(X_t)&=c_0+ c_1^\\top X_t+Tr(c_2 X_tX_t^\\top)\\\\\n",
    "&=(c_0+c_1^\\top X_0+ Tr(c_2 X_0X_0^\\top))\\pi_0(\\mathbb X_t)\n",
    "+(c_1^\\top +2X_0^\\top c_2 )\\pi_1(\\mathbb X_t)\n",
    "+2Tr(c_2 \\pi_2(\\mathbb X_t)).\n",
    "\\end{align*}\n",
    "Given $c_0,c_1,c_2$ and $X_0$ the function polytosig returns a vector $csig$ such that\n",
    "$$csig^\\top vec(\\mathbb X^{\\leq 2})=p(X_t).$$"
   ]
  },
  {
   "cell_type": "code",
   "execution_count": null,
   "metadata": {},
   "outputs": [],
   "source": [
    "#| export\n",
    "def polytosig(c0,c1,c2,x0):\n",
    "    '''\n",
    "    Input:\n",
    "        c0: float\n",
    "        c1,c2,x0: array_like\n",
    "        \n",
    "        c0,c1,c2 denotes the coefficient of a polynomial parametrized as number, vector, and matrix.\n",
    "        x0 denotes the initial value of the considered process.\n",
    "    \n",
    "    Output:\n",
    "        np.array\n",
    "        \n",
    "        coefficients of the truncated signature in the corresponding representation\n",
    "    '''\n",
    "    c2sim=(c2+np.transpose(c2))/2\n",
    "    csig=c0+np.dot(c1,x0)+np.tensordot(np.tensordot(x0,x0,axes=0),c2sim,axes=([0,1],[0,1]))\n",
    "    csig=np.concatenate((csig,c1+2*np.dot(x0,c2sim)),axis=None)\n",
    "    csig=np.concatenate((csig,2*np.squeeze(np.asarray(c2sim))),axis=None)\n",
    "    return csig"
   ]
  },
  {
   "cell_type": "markdown",
   "metadata": {},
   "source": [
    "Next, we need to initialize the coefficents. Suppose that the dynamics of a polynomial process $X$ are given by a drift vector\n",
    "$$b(X_t)^i=b_i+\\sum_{j=0}^db_{ij}X_t^j,$$\n",
    "a diffusion matrix\n",
    "$$a(X_t)^{ij}=a_{ij}+\\sum_{k=0}^da_{ijk}X_t^k+\\sum_{k,h=0}^da_{ijkh}X_t^kX_t^h,$$\n",
    "and an initial condition $x_0$. Set then\n",
    "\\begin{align*}\n",
    "b_{const}[i]&=b_i,& b_{lin}[i,j]&=b_{ij},\\\\\n",
    "a_{const}[i,j]&=a_{ij},& a_{lin}[i,j,k]&=a_{ijk},& a_{quad}[i,j,k,h]=a_{ijkh}.\n",
    "\\end{align*}\n",
    "The function polytosigvec maps the coefficients $[b_{const},b_{lin},a_{const},a_{lin},a_{quad}]$ and $x_0$ to $[bsig,asig]$ such that\n",
    "$$bsig[i]^\\top vec(\\mathbb X^{\\leq 2})=b(X_t)^i\\qquad\\text{and}\\qquad asig[i,j]^\\top vec(\\mathbb X^{\\leq 2})=a(X_t)^{ij}.$$"
   ]
  },
  {
   "cell_type": "code",
   "execution_count": null,
   "metadata": {},
   "outputs": [],
   "source": [
    "#| export\n",
    "def polytosigvec(coeff,x0):\n",
    "    '''\n",
    "    Input:\n",
    "        coeff: list\n",
    "        x0 : array_like\n",
    "        \n",
    "        coeff denotes the list of coefficients [b_{const},b_{lin},a_{const},a_{lin},a_{quad}]\n",
    "        x0 denotes the initial value of the process\n",
    "    \n",
    "    Output: list\n",
    "        list[0] is an np.array with coefficients of the truncated signature in the representation of b(X)\n",
    "        list[1] is an np.array with coefficients of the truncated signature in the representation of a(X)\n",
    "    '''\n",
    "    b_const=coeff[0]\n",
    "    b_lin=coeff[1]\n",
    "    a_const=coeff[2]\n",
    "    a_lin=coeff[3]\n",
    "    a_quad=coeff[4]\n",
    "    \n",
    "    dim=len(b_const)\n",
    "    bsig=np.zeros((dim,1+dim+dim**2))\n",
    "    asig=np.zeros((dim,dim,1+dim+dim**2))\n",
    "    for i in range(dim):\n",
    "        bsig[i]=polytosig(b_const[i],b_lin[i,:],np.zeros((dim,dim)),x0)\n",
    "        for j in range(dim):\n",
    "            asig[i,j]=polytosig(a_const[i,j],a_lin[i,j,:],a_quad[i,j,:],x0)\n",
    "    return bsig,asig"
   ]
  },
  {
   "cell_type": "markdown",
   "metadata": {},
   "source": [
    "## Expected signature of polynomial processes\n",
    "\n",
    "We are now ready to implement the operator\n",
    "$$Le_I=e_{I'}\\# b^{i_{|I|}}+\\frac 1 2 e_{I''}\\# a^{i_{|I|-1},i_{|I|}}.$$\n",
    "In the vectorial representation $L$ can be written as a matrix $matrix(L)$ such that\n",
    "$$matrix(L) vec(e_I)=vec(Le_I).$$"
   ]
  },
  {
   "cell_type": "code",
   "execution_count": null,
   "metadata": {},
   "outputs": [],
   "source": [
    "#| export\n",
    "def matrixL(coeff,x0,len_max,dim):\n",
    "    '''\n",
    "    Input:\n",
    "        coeff: list\n",
    "        x0 : array_like\n",
    "        len_max,dim: float\n",
    "\n",
    "        coeff denotes the list of coefficients [b_{const},b_{lin},a_{const},a_{lin},a_{quad}]\n",
    "        x0 denotes the initial value of the process \n",
    "        len_max and dim denote the desired truncation level and the dimension of X, respectively.\n",
    "        \n",
    "    Output:\n",
    "        np.ndarray\n",
    "        \n",
    "        the matrix corresponding to the generator of the signature trucated at level len_max of the corresponding process.\n",
    "    '''\n",
    "    d=dim-1\n",
    "    dimL=fromlentonum(len_max,d)+1\n",
    "    sigcoeff=polytosigvec(coeff,x0)\n",
    "    shuffletens=shuffletensor(2,len_max-1,d)[:,:,:dimL]\n",
    "    \n",
    "    L=np.zeros((dimL))\n",
    "    for n in tqdm(range(1,dimL)):\n",
    "        word=fromnumtoword(n,d)\n",
    "        numprime=fromwordtonum(word[:-1],d)\n",
    "        L_run=np.tensordot(sigcoeff[0][word[-1]],shuffletens,axes=([-1],[0]))[numprime,:]\n",
    "        numsecond=fromwordtonum(word[:-2],d)\n",
    "        if len(word)>1:\n",
    "            L_run+=1/2*np.tensordot(sigcoeff[1][tuple(word[-2:])],shuffletens,axes=([-1],[0]))[numsecond,:]\n",
    "        L=np.vstack((L,L_run))\n",
    "    return L"
   ]
  },
  {
   "cell_type": "markdown",
   "metadata": {},
   "source": [
    "Resourcing to the polynomial formula we can now compute the expected signature\n",
    "$\\mathbb E[\\mathbb X_T^{\\leq len_{max}}].$"
   ]
  },
  {
   "cell_type": "code",
   "execution_count": null,
   "metadata": {},
   "outputs": [],
   "source": [
    "#| export\n",
    "def expsig(coeff,x0,len_max,dim,T):\n",
    "    '''\n",
    "    Input:\n",
    "        coeff: list\n",
    "        x0 : array_like\n",
    "        len_max,dim,T: float\n",
    "\n",
    "        coeff denotes the list of coefficients [b_{const},b_{lin},a_{const},a_{lin},a_{quad}]\n",
    "        x0 denotes the initial value of the process \n",
    "        len_max and dim denote the desired truncation level and the dimension of X, respectively.\n",
    "        T denotes the time\n",
    "        \n",
    "    Output:\n",
    "        np.array\n",
    "        \n",
    "        vector corresponding to E[Sig(X)_T^{len_max}]\n",
    "    '''\n",
    "    matL=matrixL(coeff,x0,len_max,dim)\n",
    "    #print('Shape of the L-matrix',matL.shape)\n",
    "    return expm(T*matL)[:,0]"
   ]
  },
  {
   "cell_type": "markdown",
   "metadata": {},
   "source": [
    "To better read the oputput of expsig we also provide a function associating to each non-zero coponent of the expected signature its multiindex. Alternatively, the function expsig_withwords concatenate the two functions."
   ]
  },
  {
   "cell_type": "code",
   "execution_count": null,
   "metadata": {},
   "outputs": [],
   "source": [
    "#| export\n",
    "def withwords(Expsig,dim):\n",
    "    '''\n",
    "    Input:\n",
    "        Expsig: array_like\n",
    "        dim: float\n",
    "\n",
    "        Expsig denotes the output of the function expsig\n",
    "        \n",
    "    Output:\n",
    "        list\n",
    "        \n",
    "        list of non-zero components of the signature together with the corresponding multiindex.\n",
    "    '''\n",
    "    d=dim-1\n",
    "    listofwords=[]\n",
    "    for n in range(len(Expsig)):\n",
    "        if Expsig[n]!=0:\n",
    "            #listofwords+=[[str(fractions.Fraction(Expsig[n]).limit_denominator()),fromnumtoword(n,d)],]\n",
    "            listofwords+=[[Expsig[n],fromnumtoword(n,d)],]\n",
    "    return listofwords"
   ]
  },
  {
   "cell_type": "code",
   "execution_count": null,
   "metadata": {},
   "outputs": [],
   "source": [
    "#| export\n",
    "def expsig_withwords(coeff,x0,len_max,dim,T):\n",
    "    '''\n",
    "    Input:\n",
    "        coeff: list\n",
    "        x0 : array_like\n",
    "        len_max,dim,T: float\n",
    "\n",
    "        coeff denotes the list of coefficients [b_{const},b_{lin},a_{const},a_{lin},a_{quad}]\n",
    "        x0 denotes the initial value of the process \n",
    "        len_max and dim denote the desired truncation level and the dimension of X, respectively.\n",
    "        T denotes the time\n",
    "        \n",
    "    Output:\n",
    "        list\n",
    "        \n",
    "        list of non-zero components of the signature together with the corresponding multiindex.\n",
    "    '''\n",
    "    Expsig=expsig(coeff,x0,len_max,dim,T)\n",
    "    return withwords(Expsig,dim)"
   ]
  },
  {
   "cell_type": "markdown",
   "metadata": {},
   "source": [
    "In one dimension, one can obtain the moments of a process from the expected signature by means of the simple formula\n",
    "$$X_t^k=k!\\sum_{i=0}^k\\frac{X_0^{k-i}}{(k-i)!}\\langle e_0^{\\otimes i},\\mathbb X_t\\rangle.$$"
   ]
  },
  {
   "cell_type": "code",
   "execution_count": null,
   "metadata": {},
   "outputs": [],
   "source": [
    "#| export\n",
    "def moments(coeff,x0,len_max,dim,T):\n",
    "    Expsig=expsig(coeff,x0,len_max,dim,T)\n",
    "    powers=np.ones(len(Expsig))\n",
    "    for k in range(1,len(Expsig)):\n",
    "        powers[k]=x0[0]**k/math.factorial(k)\n",
    "    mom=np.ones(len(Expsig))\n",
    "    for k in range(len(Expsig)):\n",
    "        mom[k]=math.factorial(k)*np.dot(np.flip(powers[:k+1]),Expsig[:k+1])\n",
    "    return mom  "
   ]
  },
  {
   "cell_type": "markdown",
   "metadata": {},
   "source": [
    "## Examples\n",
    "\n",
    "### Expected signature and moments of a Brownian motion\n",
    "\n",
    "As a first step we need to introduce the coefficients of the polynomial process."
   ]
  },
  {
   "cell_type": "code",
   "execution_count": null,
   "metadata": {},
   "outputs": [],
   "source": [
    "dim=1\n",
    "\n",
    "b_const=np.zeros(dim)\n",
    "b_lin=np.zeros((dim,dim))\n",
    "a_const=np.zeros((dim,dim))\n",
    "a_lin=np.zeros((dim,dim,dim))\n",
    "a_quad=np.zeros((dim,dim,dim,dim))\n",
    "\n",
    "a_const[0]=1\n",
    "\n",
    "coeff=(b_const,b_lin,a_const,a_lin,a_quad)\n",
    "\n",
    "x0=np.zeros(dim)\n",
    "\n",
    "len_max=10\n",
    "T=1"
   ]
  },
  {
   "cell_type": "markdown",
   "metadata": {},
   "source": [
    "Next, we run the proposed code for the expected signature."
   ]
  },
  {
   "cell_type": "code",
   "execution_count": null,
   "metadata": {},
   "outputs": [
    {
     "data": {
      "application/json": {
       "ascii": false,
       "bar_format": null,
       "colour": null,
       "elapsed": 0.017530202865600586,
       "initial": 0,
       "n": 0,
       "ncols": null,
       "nrows": 43,
       "postfix": null,
       "prefix": "",
       "rate": null,
       "total": 10,
       "unit": "it",
       "unit_divisor": 1000,
       "unit_scale": false
      },
      "application/vnd.jupyter.widget-view+json": {
       "model_id": "4e8943d0abfd4ca19f689d05bc228cca",
       "version_major": 2,
       "version_minor": 0
      },
      "text/plain": [
       "  0%|          | 0/10 [00:00<?, ?it/s]"
      ]
     },
     "metadata": {},
     "output_type": "display_data"
    }
   ],
   "source": [
    "Expsig=expsig(coeff,x0,len_max,dim,T)"
   ]
  },
  {
   "cell_type": "markdown",
   "metadata": {},
   "source": [
    "And finally we obtain a readable output."
   ]
  },
  {
   "cell_type": "code",
   "execution_count": null,
   "metadata": {},
   "outputs": [
    {
     "data": {
      "text/plain": [
       "[[1.0, []],\n",
       " [0.5, [0, 0]],\n",
       " [0.125, [0, 0, 0, 0]],\n",
       " [0.020833333333333332, [0, 0, 0, 0, 0, 0]],\n",
       " [0.002604166666666666, [0, 0, 0, 0, 0, 0, 0, 0]],\n",
       " [0.00026041666666666655, [0, 0, 0, 0, 0, 0, 0, 0, 0, 0]]]"
      ]
     },
     "execution_count": null,
     "metadata": {},
     "output_type": "execute_result"
    }
   ],
   "source": [
    "withwords(Expsig,dim)"
   ]
  },
  {
   "cell_type": "markdown",
   "metadata": {},
   "source": [
    "With the apposite code one can also get the corresponding moments."
   ]
  },
  {
   "cell_type": "code",
   "execution_count": null,
   "metadata": {},
   "outputs": [
    {
     "data": {
      "application/json": {
       "ascii": false,
       "bar_format": null,
       "colour": null,
       "elapsed": 0.025234222412109375,
       "initial": 0,
       "n": 0,
       "ncols": null,
       "nrows": 43,
       "postfix": null,
       "prefix": "",
       "rate": null,
       "total": 10,
       "unit": "it",
       "unit_divisor": 1000,
       "unit_scale": false
      },
      "application/vnd.jupyter.widget-view+json": {
       "model_id": "15f50814447849d8a1f30c2b32d6931c",
       "version_major": 2,
       "version_minor": 0
      },
      "text/plain": [
       "  0%|          | 0/10 [00:00<?, ?it/s]"
      ]
     },
     "metadata": {},
     "output_type": "display_data"
    },
    {
     "data": {
      "text/plain": [
       "array([  1.,   0.,   1.,   0.,   3.,   0.,  15.,   0., 105.,   0., 945.])"
      ]
     },
     "execution_count": null,
     "metadata": {},
     "output_type": "execute_result"
    }
   ],
   "source": [
    "moments(coeff,x0,len_max,dim,T)"
   ]
  },
  {
   "cell_type": "markdown",
   "metadata": {},
   "source": [
    "### Time extended 2 dimensional Brownian Motion\n",
    "\n",
    "As a first step we need to introduce the coefficients of the polynomial process."
   ]
  },
  {
   "cell_type": "code",
   "execution_count": null,
   "metadata": {},
   "outputs": [],
   "source": [
    "dim=3\n",
    "\n",
    "b_const=np.zeros(dim)\n",
    "b_lin=np.zeros((dim,dim))\n",
    "a_const=np.zeros((dim,dim))\n",
    "a_lin=np.zeros((dim,dim,dim))\n",
    "a_quad=np.zeros((dim,dim,dim,dim))\n",
    "\n",
    "b_const[0]=1\n",
    "a_const[1,1]=1\n",
    "a_const[2,2]=1\n",
    "\n",
    "coeff=(b_const,b_lin,a_const,a_lin,a_quad)\n",
    "\n",
    "x0=np.zeros(dim)\n",
    "\n",
    "len_max=5\n",
    "T=1"
   ]
  },
  {
   "cell_type": "markdown",
   "metadata": {},
   "source": [
    "Finally, we run the proposed code with a readable output."
   ]
  },
  {
   "cell_type": "code",
   "execution_count": null,
   "metadata": {},
   "outputs": [
    {
     "data": {
      "application/json": {
       "ascii": false,
       "bar_format": null,
       "colour": null,
       "elapsed": 0.028654813766479492,
       "initial": 0,
       "n": 0,
       "ncols": null,
       "nrows": 43,
       "postfix": null,
       "prefix": "",
       "rate": null,
       "total": 363,
       "unit": "it",
       "unit_divisor": 1000,
       "unit_scale": false
      },
      "application/vnd.jupyter.widget-view+json": {
       "model_id": "4f4fafa8dbd4443a81521aa3eaaa0f62",
       "version_major": 2,
       "version_minor": 0
      },
      "text/plain": [
       "  0%|          | 0/363 [00:00<?, ?it/s]"
      ]
     },
     "metadata": {},
     "output_type": "display_data"
    },
    {
     "data": {
      "text/plain": [
       "[[1.0, []],\n",
       " [1.0, [0]],\n",
       " [0.5, [0, 0]],\n",
       " [0.5, [1, 1]],\n",
       " [0.5, [2, 2]],\n",
       " [0.16666666666666666, [0, 0, 0]],\n",
       " [0.25, [0, 1, 1]],\n",
       " [0.25, [0, 2, 2]],\n",
       " [0.25, [1, 1, 0]],\n",
       " [0.25, [2, 2, 0]],\n",
       " [0.04166666666666666, [0, 0, 0, 0]],\n",
       " [0.08333333333333333, [0, 0, 1, 1]],\n",
       " [0.08333333333333333, [0, 0, 2, 2]],\n",
       " [0.08333333333333333, [0, 1, 1, 0]],\n",
       " [0.08333333333333333, [0, 2, 2, 0]],\n",
       " [0.08333333333333333, [1, 1, 0, 0]],\n",
       " [0.125, [1, 1, 1, 1]],\n",
       " [0.125, [1, 1, 2, 2]],\n",
       " [0.08333333333333333, [2, 2, 0, 0]],\n",
       " [0.125, [2, 2, 1, 1]],\n",
       " [0.125, [2, 2, 2, 2]],\n",
       " [0.00833333333333333, [0, 0, 0, 0, 0]],\n",
       " [0.02083333333333333, [0, 0, 0, 1, 1]],\n",
       " [0.02083333333333333, [0, 0, 0, 2, 2]],\n",
       " [0.02083333333333333, [0, 0, 1, 1, 0]],\n",
       " [0.02083333333333333, [0, 0, 2, 2, 0]],\n",
       " [0.02083333333333333, [0, 1, 1, 0, 0]],\n",
       " [0.041666666666666664, [0, 1, 1, 1, 1]],\n",
       " [0.041666666666666664, [0, 1, 1, 2, 2]],\n",
       " [0.02083333333333333, [0, 2, 2, 0, 0]],\n",
       " [0.041666666666666664, [0, 2, 2, 1, 1]],\n",
       " [0.041666666666666664, [0, 2, 2, 2, 2]],\n",
       " [0.02083333333333333, [1, 1, 0, 0, 0]],\n",
       " [0.041666666666666664, [1, 1, 0, 1, 1]],\n",
       " [0.041666666666666664, [1, 1, 0, 2, 2]],\n",
       " [0.041666666666666664, [1, 1, 1, 1, 0]],\n",
       " [0.041666666666666664, [1, 1, 2, 2, 0]],\n",
       " [0.02083333333333333, [2, 2, 0, 0, 0]],\n",
       " [0.041666666666666664, [2, 2, 0, 1, 1]],\n",
       " [0.041666666666666664, [2, 2, 0, 2, 2]],\n",
       " [0.041666666666666664, [2, 2, 1, 1, 0]],\n",
       " [0.041666666666666664, [2, 2, 2, 2, 0]]]"
      ]
     },
     "execution_count": null,
     "metadata": {},
     "output_type": "execute_result"
    }
   ],
   "source": [
    "expsig_withwords(coeff,x0,len_max,dim,T)"
   ]
  },
  {
   "cell_type": "markdown",
   "metadata": {},
   "source": [
    "### The Jacobi Process"
   ]
  },
  {
   "cell_type": "code",
   "execution_count": null,
   "metadata": {},
   "outputs": [],
   "source": [
    "dim=1\n",
    "\n",
    "b_const=np.zeros(dim)\n",
    "b_lin=np.zeros((dim,dim))\n",
    "a_const=np.zeros((dim,dim))\n",
    "a_lin=np.zeros((dim,dim,dim))\n",
    "a_quad=np.zeros((dim,dim,dim,dim))\n",
    "\n",
    "a_lin[0]=1\n",
    "a_quad[0]=-1\n",
    "\n",
    "coeff=(b_const,b_lin,a_const,a_lin,a_quad)\n",
    "\n",
    "x0=np.zeros(dim)\n",
    "x0[0]=1/2\n",
    "\n",
    "len_max=10\n",
    "T=10000"
   ]
  },
  {
   "cell_type": "code",
   "execution_count": null,
   "metadata": {},
   "outputs": [
    {
     "data": {
      "application/json": {
       "ascii": false,
       "bar_format": null,
       "colour": null,
       "elapsed": 0.014445781707763672,
       "initial": 0,
       "n": 0,
       "ncols": null,
       "nrows": 43,
       "postfix": null,
       "prefix": "",
       "rate": null,
       "total": 10,
       "unit": "it",
       "unit_divisor": 1000,
       "unit_scale": false
      },
      "application/vnd.jupyter.widget-view+json": {
       "model_id": "edf28823cef943af833d93e48f171e98",
       "version_major": 2,
       "version_minor": 0
      },
      "text/plain": [
       "  0%|          | 0/10 [00:00<?, ?it/s]"
      ]
     },
     "metadata": {},
     "output_type": "display_data"
    },
    {
     "data": {
      "text/plain": [
       "array([1.00000000e+00, 0.00000000e+00, 1.25000000e-01, 0.00000000e+00,\n",
       "       2.60416667e-03, 0.00000000e+00, 2.17013889e-05, 0.00000000e+00,\n",
       "       9.68812004e-08, 0.00000000e+00, 2.69114446e-10])"
      ]
     },
     "execution_count": null,
     "metadata": {},
     "output_type": "execute_result"
    }
   ],
   "source": [
    "#Expsig=\n",
    "expsig(coeff,x0,len_max,dim,T)\n",
    "#withwords(Expsig,dim)"
   ]
  },
  {
   "cell_type": "code",
   "execution_count": null,
   "metadata": {},
   "outputs": [
    {
     "data": {
      "application/json": {
       "ascii": false,
       "bar_format": null,
       "colour": null,
       "elapsed": 0.014008045196533203,
       "initial": 0,
       "n": 0,
       "ncols": null,
       "nrows": 43,
       "postfix": null,
       "prefix": "",
       "rate": null,
       "total": 20,
       "unit": "it",
       "unit_divisor": 1000,
       "unit_scale": false
      },
      "application/vnd.jupyter.widget-view+json": {
       "model_id": "e8a8fa6d299f4fb89bf05bb158fb9ade",
       "version_major": 2,
       "version_minor": 0
      },
      "text/plain": [
       "  0%|          | 0/20 [00:00<?, ?it/s]"
      ]
     },
     "metadata": {},
     "output_type": "display_data"
    }
   ],
   "source": [
    "len_max=20\n",
    "\n",
    "Moments=moments(coeff,x0,len_max,dim,T)"
   ]
  },
  {
   "cell_type": "code",
   "execution_count": null,
   "metadata": {},
   "outputs": [
    {
     "data": {
      "image/png": "[encoded data removed]",
      "text/plain": [
       "<Figure size 640x480 with 1 Axes>"
      ]
     },
     "metadata": {},
     "output_type": "display_data"
    }
   ],
   "source": [
    "def expc(c):\n",
    "    u=np.ones(len(Moments))\n",
    "    for k in range(len(u)):\n",
    "        u[k]=c**k/math.factorial(k)\n",
    "    return u\n",
    "\n",
    "space=np.linspace(-5,5,100)\n",
    "\n",
    "stationary=1/2*(1+np.exp(space))\n",
    "\n",
    "plt.plot(space,stationary,label=f'Stat'); \n",
    "\n",
    "for j in range(2,11,1):\n",
    "    MGF=np.ones(len(space))\n",
    "    for k in range(len(MGF)):\n",
    "        MGF[k]=np.dot(expc(space[k])[:j],Moments[:j])\n",
    "    plt.plot(space,MGF,label=f'K={j}');    \n",
    "\n",
    "\n",
    "plt.xlabel(\"c\")\n",
    "plt.ylabel(f'E[exp($cX_{T}$)]')\n",
    "plt.title(f'Computing the MGF of a Jacobi diffusion with $X_0=${x0[0]}')\n",
    "plt.legend();"
   ]
  },
  {
   "cell_type": "code",
   "execution_count": null,
   "metadata": {},
   "outputs": [],
   "source": [
    "#| hide\n",
    "import nbdev; nbdev.nbdev_export()"
   ]
  },
  {
   "cell_type": "code",
   "execution_count": null,
   "metadata": {},
   "outputs": [],
   "source": []
  }
 ],
 "metadata": {
  "kernelspec": {
   "display_name": "Python 3 (ipykernel)",
   "language": "python",
   "name": "python3"
  }
 },
 "nbformat": 4,
 "nbformat_minor": 2
}
