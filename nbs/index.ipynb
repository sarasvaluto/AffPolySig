{
 "cells": [
  {
   "cell_type": "markdown",
   "metadata": {},
   "source": [
    "# aff_poly_sig: Affine and polynomial methods for signatures\n",
    "\n",
    "> Code for Laplace transform of the signature of a one dimensional Brownian motion and expected signature of generic stochastic processes."
   ]
  },
  {
   "cell_type": "markdown",
   "metadata": {},
   "source": [
    "## Theoretical results\n",
    "\n",
    "The code proposed here is based on the results of the following papers.\n",
    "\n",
    "- C. Cuchiero, G. Gazzani, J. Möller, and S. Svaluto-Ferro. Joint calibration to SPX and\n",
    "VIX options with signature-based models. ArXiv e-prints, 2023. https://arxiv.org/abs/2301.13235.\n",
    "\n",
    "- C. Cuchiero, S. Svaluto-Ferro, and J. Teichmann. Signature SDEs from an affine and polynomial perspectiv. ArXiv e-prints, 2023."
   ]
  },
  {
   "cell_type": "markdown",
   "metadata": {},
   "source": [
    "## How to install\n",
    "\n",
    "After cloning the repository, `cd` (change directory) to the repo and enter this into your terminal:"
   ]
  },
  {
   "cell_type": "markdown",
   "metadata": {},
   "source": [
    "```sh\n",
    "pip install -e .\n",
    "```"
   ]
  },
  {
   "cell_type": "markdown",
   "metadata": {},
   "source": [
    "## How to use"
   ]
  },
  {
   "cell_type": "markdown",
   "metadata": {},
   "source": [
    "### Expected signature and moments of a polynomial process"
   ]
  },
  {
   "cell_type": "markdown",
   "metadata": {},
   "source": [
    "The goal of this code is to compute the expected signature $\\mathbb E[\\mathbb X_T]$ of a polynomial process $X$. In the one dimensional case it also provides an expression for its moments. As a first step import the following functions."
   ]
  },
  {
   "cell_type": "code",
   "execution_count": null,
   "metadata": {},
   "outputs": [],
   "source": [
    "from aff_poly_sig.exp_sig import expsig, withwords, expsig_withwords, moments"
   ]
  },
  {
   "cell_type": "markdown",
   "metadata": {},
   "source": [
    "Next, define the parameters of the polynomial process of interest. Given the drift vector\n",
    "$$b(X_t)^i=b_i+\\sum_{j=0}^db_{ij}X_t^j,$$\n",
    "and the diffusion matrix\n",
    "$$a(X_t)^{ij}=a_{ij}+\\sum_{k=0}^da_{ijk}X_t^k+\\sum_{k,h=0}^da_{ijkh}X_t^kX_t^h,$$\n",
    "we use the following parametrisation of the characteristics\n",
    "\\begin{align*}\n",
    "b_{const}[i]&=b_i,& b_{lin}[i,j]&=b_{ij},\\\\\n",
    "a_{const}[i,j]&=a_{ij},& a_{lin}[i,j,k]&=a_{ijk},& a_{quad}[i,j,k,h]=a_{ijkh}.\n",
    "\\end{align*}\n",
    "Coefficients need then to be saved in a tuple as illustrated in the code below. Define also the initial condition $x_0$.\n",
    "\n",
    "\n",
    "\n",
    "For this example we consider a one dimensional Jacobi process without drift setting $b(X_t)^0=0$ and $a(X_t)^{00}=X_t^0(1-X_t)^0$. We set $x_0=1/2$."
   ]
  },
  {
   "cell_type": "code",
   "execution_count": null,
   "metadata": {},
   "outputs": [],
   "source": [
    "import numpy as np\n",
    "\n",
    "#Dimension of the process\n",
    "dim=1\n",
    "\n",
    "#Coefficients of the characteristics\n",
    "b_const=np.zeros(dim)\n",
    "b_lin=np.zeros((dim,dim))\n",
    "a_const=np.zeros((dim,dim))\n",
    "a_lin=np.zeros((dim,dim,dim))\n",
    "a_quad=np.zeros((dim,dim,dim,dim))\n",
    "\n",
    "a_lin[0]=1\n",
    "a_quad[0]=-1\n",
    "\n",
    "coeff=(b_const,b_lin,a_const,a_lin,a_quad)\n",
    "\n",
    "x0=np.zeros(dim)\n",
    "x0[0]=1/2"
   ]
  },
  {
   "cell_type": "markdown",
   "metadata": {},
   "source": [
    "The last parameters to define are given by the lenght of the expected signature we would like to compute (`len_max`) and the time at which we would like to do it (`T`)."
   ]
  },
  {
   "cell_type": "code",
   "execution_count": null,
   "metadata": {},
   "outputs": [],
   "source": [
    "len_max=10\n",
    "T=1"
   ]
  },
  {
   "cell_type": "markdown",
   "metadata": {},
   "source": [
    "To get the expected signature we can then use the function `expsig`."
   ]
  },
  {
   "cell_type": "code",
   "execution_count": null,
   "metadata": {},
   "outputs": [
    {
     "data": {
      "application/json": {
       "ascii": false,
       "bar_format": null,
       "colour": null,
       "elapsed": 0.02338886260986328,
       "initial": 0,
       "n": 0,
       "ncols": null,
       "nrows": 43,
       "postfix": null,
       "prefix": "",
       "rate": null,
       "total": 10,
       "unit": "it",
       "unit_divisor": 1000,
       "unit_scale": false
      },
      "application/vnd.jupyter.widget-view+json": {
       "model_id": "c0fc9567dc554d4c9c612f253799b4c7",
       "version_major": 2,
       "version_minor": 0
      },
      "text/plain": [
       "  0%|          | 0/10 [00:00<?, ?it/s]"
      ]
     },
     "metadata": {},
     "output_type": "display_data"
    },
    {
     "data": {
      "text/plain": [
       "array([1.00000000e+00, 0.00000000e+00, 7.90150699e-02, 0.00000000e+00,\n",
       "       1.45583443e-03, 0.00000000e+00, 1.14548260e-05, 0.00000000e+00,\n",
       "       4.94622744e-08, 0.00000000e+00, 1.34438690e-10])"
      ]
     },
     "execution_count": null,
     "metadata": {},
     "output_type": "execute_result"
    }
   ],
   "source": [
    "expsig(coeff,x0,len_max,dim,T)"
   ]
  },
  {
   "cell_type": "markdown",
   "metadata": {},
   "source": [
    "To obtain a better readable output one can use the function `withwords`."
   ]
  },
  {
   "cell_type": "code",
   "execution_count": null,
   "metadata": {},
   "outputs": [
    {
     "data": {
      "application/json": {
       "ascii": false,
       "bar_format": null,
       "colour": null,
       "elapsed": 0.027342796325683594,
       "initial": 0,
       "n": 0,
       "ncols": null,
       "nrows": 43,
       "postfix": null,
       "prefix": "",
       "rate": null,
       "total": 10,
       "unit": "it",
       "unit_divisor": 1000,
       "unit_scale": false
      },
      "application/vnd.jupyter.widget-view+json": {
       "model_id": "80aeb8d73aa640418237ec04443002e6",
       "version_major": 2,
       "version_minor": 0
      },
      "text/plain": [
       "  0%|          | 0/10 [00:00<?, ?it/s]"
      ]
     },
     "metadata": {},
     "output_type": "display_data"
    },
    {
     "data": {
      "text/plain": [
       "[[1.0, []],\n",
       " [0.07901506985356974, [0, 0]],\n",
       " [0.0014558344297645905, [0, 0, 0, 0]],\n",
       " [1.145482602482784e-05, [0, 0, 0, 0, 0, 0]],\n",
       " [4.94622743536099e-08, [0, 0, 0, 0, 0, 0, 0, 0]],\n",
       " [1.3443868989326117e-10, [0, 0, 0, 0, 0, 0, 0, 0, 0, 0]]]"
      ]
     },
     "execution_count": null,
     "metadata": {},
     "output_type": "execute_result"
    }
   ],
   "source": [
    "E=expsig(coeff,x0,len_max,dim,T)\n",
    "withwords(E,dim)"
   ]
  },
  {
   "cell_type": "markdown",
   "metadata": {},
   "source": [
    "The same result can be obtained directly using `expsig_withwords`, which combines the two steps above."
   ]
  },
  {
   "cell_type": "code",
   "execution_count": null,
   "metadata": {},
   "outputs": [
    {
     "data": {
      "application/json": {
       "ascii": false,
       "bar_format": null,
       "colour": null,
       "elapsed": 0.020176172256469727,
       "initial": 0,
       "n": 0,
       "ncols": null,
       "nrows": 43,
       "postfix": null,
       "prefix": "",
       "rate": null,
       "total": 10,
       "unit": "it",
       "unit_divisor": 1000,
       "unit_scale": false
      },
      "application/vnd.jupyter.widget-view+json": {
       "model_id": "0533f904f61f413ca71ea173927da05f",
       "version_major": 2,
       "version_minor": 0
      },
      "text/plain": [
       "  0%|          | 0/10 [00:00<?, ?it/s]"
      ]
     },
     "metadata": {},
     "output_type": "display_data"
    },
    {
     "data": {
      "text/plain": [
       "[[1.0, []],\n",
       " [0.07901506985356974, [0, 0]],\n",
       " [0.0014558344297645905, [0, 0, 0, 0]],\n",
       " [1.145482602482784e-05, [0, 0, 0, 0, 0, 0]],\n",
       " [4.94622743536099e-08, [0, 0, 0, 0, 0, 0, 0, 0]],\n",
       " [1.3443868989326117e-10, [0, 0, 0, 0, 0, 0, 0, 0, 0, 0]]]"
      ]
     },
     "execution_count": null,
     "metadata": {},
     "output_type": "execute_result"
    }
   ],
   "source": [
    "expsig_withwords(coeff,x0,len_max,dim,T)"
   ]
  },
  {
   "cell_type": "markdown",
   "metadata": {},
   "source": [
    "In one dimension (`dim`=1) we can also use the function `moments` to compute the moments of the process."
   ]
  },
  {
   "cell_type": "code",
   "execution_count": null,
   "metadata": {},
   "outputs": [
    {
     "data": {
      "application/json": {
       "ascii": false,
       "bar_format": null,
       "colour": null,
       "elapsed": 0.015483856201171875,
       "initial": 0,
       "n": 0,
       "ncols": null,
       "nrows": 43,
       "postfix": null,
       "prefix": "",
       "rate": null,
       "total": 10,
       "unit": "it",
       "unit_divisor": 1000,
       "unit_scale": false
      },
      "application/vnd.jupyter.widget-view+json": {
       "model_id": "77a25d95b2da4f118857f44cd968d5f5",
       "version_major": 2,
       "version_minor": 0
      },
      "text/plain": [
       "  0%|          | 0/10 [00:00<?, ?it/s]"
      ]
     },
     "metadata": {},
     "output_type": "display_data"
    },
    {
     "data": {
      "text/plain": [
       "array([1.        , 0.5       , 0.40803014, 0.36204521, 0.33448524,\n",
       "       0.31613774, 0.30305083, 0.29324856, 0.28563369, 0.27954838,\n",
       "       0.2745743 ])"
      ]
     },
     "execution_count": null,
     "metadata": {},
     "output_type": "execute_result"
    }
   ],
   "source": [
    "moments(coeff,x0,len_max,dim,T)"
   ]
  },
  {
   "cell_type": "markdown",
   "metadata": {},
   "source": [
    "### Laplace transform in the Brownian setting"
   ]
  },
  {
   "cell_type": "markdown",
   "metadata": {},
   "source": [
    "The goal of this code is to compute the Laplace transform $\\mathbb E[e^{\\langle \\mathbf u^{sig}, \\mathbb X_t^{sig}\\rangle}]$ and $\\mathbb E[e^{\\langle \\mathbf u^{pow}, \\mathbb X_t^{pow}\\rangle}]$, where $X$ denotes a Brownian motion and $\\mathbb X^{sig}$ and $\\mathbb X^{pow}$ the corresponding extensions. Precisely, we consider the following two extensions: the signature\n",
    "$$\\mathbb X_t^{sig}:=(1,X_t,\\frac {X_t^2}2,\\ldots),$$\n",
    "and the power sequence\n",
    "$$\\mathbb X_t^{pow}:=(1,X_t,X_t^2,\\ldots).$$\n",
    "As a first step import the following functions."
   ]
  },
  {
   "cell_type": "code",
   "execution_count": null,
   "metadata": {},
   "outputs": [],
   "source": [
    "from aff_poly_sig.riccati_bm import appr_exp_sig, appr_exp_pow, MC, CoD"
   ]
  },
  {
   "cell_type": "markdown",
   "metadata": {},
   "source": [
    "Next, we introduce the parameters of interest. We in particular have `T` for the time horizon, `K_u` for the lenght of (the approximation of) $\\mathbf u^{sig}$ and $\\mathbf u^{pow}$, `u_sig` for $\\mathbf u^{sig}$ with the signature's extension, and `u_pow` for $\\mathbf u^{pow}$ with the power sequence's extension.\n",
    "As an example we compute \n",
    "$$\\mathbb E[\\exp(-2\\frac{X_t^2}2)]=\\mathbb E[\\exp(-X_t^2)]$$\n",
    "for each $t\\in[0,T]$, where $X$ denotes a Brownian Motion and $T=1$.\n",
    "The corresponding parameters are given in the following cell."
   ]
  },
  {
   "cell_type": "code",
   "execution_count": null,
   "metadata": {},
   "outputs": [],
   "source": [
    "import math \n",
    "import matplotlib.pyplot as plt\n",
    "\n",
    "T=1 # [0,T] time horizon\n",
    "\n",
    "#u in terms of the sig lift\n",
    "K_u=5\n",
    "u_sig=np.zeros(K_u) \n",
    "u_sig[2]=-2\n",
    "\n",
    "#u in terms of the powers lift\n",
    "u_pow=u_sig.copy()\n",
    "for k in range(0,K_u):\n",
    "    u_pow[k]=u_pow[k]/math.factorial(k)"
   ]
  },
  {
   "cell_type": "markdown",
   "metadata": {},
   "source": [
    "One then just needs to fix the computational parameters, namely the grid for the computation of the signature (`timegrid`) and the trucation's level `K` for the solution."
   ]
  },
  {
   "cell_type": "code",
   "execution_count": null,
   "metadata": {},
   "outputs": [],
   "source": [
    "n_time=1000\n",
    "timegrid = np.linspace(0,T,n_time)\n",
    "K=30"
   ]
  },
  {
   "cell_type": "markdown",
   "metadata": {},
   "source": [
    "The desired Laplace transform can then be computed using `appr_exp_sig` and `appr_exp_pow`. The finals `sig` and `pow` denote the employed extensions."
   ]
  },
  {
   "cell_type": "code",
   "execution_count": null,
   "metadata": {},
   "outputs": [],
   "source": [
    "L_sig=appr_exp_sig(u_sig,timegrid,K)\n",
    "L_pow=appr_exp_pow(u_pow,timegrid,K)"
   ]
  },
  {
   "cell_type": "markdown",
   "metadata": {},
   "source": [
    "To test the results, one can compare them to the results obtained by a Monte Carlo approximation. That's what the `MC` function does."
   ]
  },
  {
   "cell_type": "code",
   "execution_count": null,
   "metadata": {},
   "outputs": [
    {
     "data": {
      "application/json": {
       "ascii": false,
       "bar_format": null,
       "colour": null,
       "elapsed": 0.020367145538330078,
       "initial": 0,
       "n": 0,
       "ncols": null,
       "nrows": 43,
       "postfix": null,
       "prefix": "",
       "rate": null,
       "total": 1000,
       "unit": "it",
       "unit_divisor": 1000,
       "unit_scale": false
      },
      "application/vnd.jupyter.widget-view+json": {
       "model_id": "42f87463c7f449bfba7170a4e4f09312",
       "version_major": 2,
       "version_minor": 0
      },
      "text/plain": [
       "  0%|          | 0/1000 [00:00<?, ?it/s]"
      ]
     },
     "metadata": {},
     "output_type": "display_data"
    }
   ],
   "source": [
    "N=100000 # number of samples\n",
    "n_MC=1000 # number of times ticks\n",
    "MonteCarlo = MC(u_sig,T,n_MC,N)"
   ]
  },
  {
   "cell_type": "code",
   "execution_count": null,
   "metadata": {},
   "outputs": [
    {
     "data": {
      "image/png": "[encoded data removed]",
      "text/plain": [
       "<Figure size 640x480 with 1 Axes>"
      ]
     },
     "metadata": {},
     "output_type": "display_data"
    }
   ],
   "source": [
    "#Monte Carlo\n",
    "#MonteCarlo_CoD = CoD(np.real(MonteCarlo),n_MC, n_time)\n",
    "plt.plot(np.linspace(0,T,n_MC),MonteCarlo,'c',label='MC');\n",
    "\n",
    "#Sig Lift\n",
    "plt.plot(timegrid,L_sig,'m--',label='Sig');\n",
    "\n",
    "#Pow Lift\n",
    "plt.plot(timegrid,L_pow,'g:',label='Pow');\n",
    "\n",
    "plt.ylim(min(MonteCarlo.real-0.01),max(MonteCarlo.real)+0.01)\n",
    "plt.xlabel(\"t\")\n",
    "plt.title(f'Solving the Riccati for u_sig={u_sig.real} with an ODE solver')\n",
    "plt.legend();"
   ]
  },
  {
   "cell_type": "code",
   "execution_count": null,
   "metadata": {},
   "outputs": [],
   "source": []
  }
 ],
 "metadata": {
  "kernelspec": {
   "display_name": "Python 3 (ipykernel)",
   "language": "python",
   "name": "python3"
  }
 },
 "nbformat": 4,
 "nbformat_minor": 4
}
